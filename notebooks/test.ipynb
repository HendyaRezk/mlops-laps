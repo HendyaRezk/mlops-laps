{
 "cells": [
  {
   "cell_type": "code",
   "execution_count": 11,
   "metadata": {},
   "outputs": [
    {
     "name": "stdout",
     "output_type": "stream",
     "text": [
      "PassengerId=709 Pclass=3 Name='Moubarek, Master. Halim Gonios (\"William George\")' Sex='male' Age=1.0 SibSp=1 Parch=1 Ticket='2661' Fare=15.2458 Cabin='c22' Embarked='C' Title='Master' FamilySize=3 IsAlone=0 Deck='c' TicketGroupSize=2 FarePerPerson=5.081933333333333 AgeBin=1 FareBin=2 Pclass_AgeBin=1.0 Sex_Pclass='male_3' CabinMissing=1 AgeMissing=1\n",
      "PassengerId=709 Pclass=3 Name='Moubarek, Master. Halim Gonios (\"William George\")' Sex='male' Age=1.0 SibSp=1 Parch=1 Ticket='2661' Fare=15.2458 Cabin='c22' Embarked='C' Title='Master' FamilySize=3 IsAlone=0 Deck='c' TicketGroupSize=2 FarePerPerson=5.081933333333333 AgeBin=1 FareBin=2 Pclass_AgeBin=1.0 Sex_Pclass='male_3' CabinMissing=1 AgeMissing=1\n",
      "PassengerId=709 Pclass=3 Name='Moubarek, Master. Halim Gonios (\"William George\")' Sex='male' Age=1.0 SibSp=1 Parch=1 Ticket='2661' Fare=15.2458 Cabin='c22' Embarked='C' Title='Master' FamilySize=3 IsAlone=0 Deck='c' TicketGroupSize=2 FarePerPerson=5.081933333333333 AgeBin=1 FareBin=2 Pclass_AgeBin=1.0 Sex_Pclass='male_3' CabinMissing=1 AgeMissing=1\n"
     ]
    },
    {
     "name": "stderr",
     "output_type": "stream",
     "text": [
      "/tmp/ipykernel_2794/2218505027.py:74: PydanticDeprecatedSince20: The `dict` method is deprecated; use `model_dump` instead. Deprecated in Pydantic V2.0 to be removed in V3.0. See Pydantic V2 Migration Guide at https://errors.pydantic.dev/2.11/migration/\n",
      "  df = pd.DataFrame([request.dict() for request in inference_requests])\n"
     ]
    }
   ],
   "source": [
    "from typing import Optional\n",
    "from pydantic import BaseModel, ValidationError\n",
    "\n",
    "# Define the InferenceRequest class\n",
    "class InferenceRequest(BaseModel):\n",
    "    Pclass: int\n",
    "    Name: str\n",
    "    Sex: str\n",
    "    Age: Optional[float]\n",
    "    SibSp: int\n",
    "    Parch: int\n",
    "    Fare: float\n",
    "    Embarked: str\n",
    "\n",
    "# Sample data\n",
    "data = {\n",
    "    \"dataframe_split\": {\n",
    "        \"columns\": [\n",
    "            \"Pclass\", \"Name\", \"Sex\", \"Age\", \"SibSp\", \"Parch\", \"Fare\", \"Embarked\"],\n",
    "        \"data\": [\n",
    "            [709, \"Moubarek, Master. Halim Gonios (\\\"William George\\\")\", \"male\", 1, 1, 1, \"C\"]\n",
    "        ]\n",
    "    }\n",
    "}\n",
    "\n",
    "# Extract columns and data from the input dictionary\n",
    "columns = data[\"dataframe_split\"][\"columns\"]\n",
    "rows = data[\"dataframe_split\"][\"data\"]\n",
    "\n",
    "# Convert each row into an InferenceRequest instance\n",
    "inference_requests = []\n",
    "\n",
    "for row in rows:\n",
    "    # Map the row values to a dictionary using the column names\n",
    "    row_dict = dict(zip(columns, row))\n",
    "    \n",
    "    try:\n",
    "        # Create an InferenceRequest instance and append it to the list\n",
    "        inference_request = InferenceRequest(**row_dict)\n",
    "        inference_requests.append(inference_request)\n",
    "    except ValidationError as e:\n",
    "        print(f\"Validation error for row {row}: {e}\")\n",
    "\n",
    "# Output the InferenceRequest instances\n",
    "for request in inference_requests:\n",
    "    print(request)\n",
    "    \n",
    "# convert the list of InferenceRequest instances to a dataframe\n",
    "import pandas as pd\n",
    "df = pd.DataFrame([request.dict() for request in inference_requests])"
   ]
  },
  {
   "cell_type": "code",
   "execution_count": 4,
   "metadata": {},
   "outputs": [
    {
     "name": "stdout",
     "output_type": "stream",
     "text": [
      "{'message': 'Response Produced Successfully', 'data': [1, 1, 1, 1, 1]}\n"
     ]
    }
   ],
   "source": [
    "import requests\n",
    "\n",
    "\n",
    "url = \"http://localhost:8000/predict\"\n",
    "data = {\n",
    "    \"dataframe_split\": {\n",
    "        \"columns\": [\n",
    "            \"Pclass\", \"Name\", \"Sex\", \"Age\", \"SibSp\", \"Parch\", \"Fare\", \"Embarked\"],\n",
    "        \"data\": [\n",
    "            [709, \"Moubarek, Master. Halim Gonios (\\\"William George\\\")\", \"male\", 1, 1, 1,2, \"C\"],\n",
    "            [709, \"Moubarek, Master. Halim Gonios (\\\"William George\\\")\", \"male\", 1, 1, 1,2, \"C\"],\n",
    "            [709, \"Moubarek, Master. Halim Gonios (\\\"William George\\\")\", \"male\", 1, 1, 1,2, \"C\"],\n",
    "            [709, \"Moubarek, Master. Halim Gonios (\\\"William George\\\")\", \"male\", 1, 1, 1,2, \"C\"],\n",
    "            [709, \"Moubarek, Master. Halim Gonios (\\\"William George\\\")\", \"male\", 1, 1, 1,2, \"C\"],\n",
    "        ]\n",
    "    }\n",
    "}\n",
    "\n",
    "response = requests.post(url=url,json=data)\n",
    "print(response.json())"
   ]
  }
 ],
 "metadata": {
  "language_info": {
   "name": "python"
  }
 },
 "nbformat": 4,
 "nbformat_minor": 2
}
